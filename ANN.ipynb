{
 "cells": [
  {
   "cell_type": "code",
   "execution_count": 14,
   "metadata": {},
   "outputs": [],
   "source": [
    "import tensorflow as tf\n",
    "from tensorflow.keras.models import Sequential\n",
    "from tensorflow.keras.layers import Dense\n",
    "from sklearn.datasets import load_iris\n",
    "from sklearn.model_selection import train_test_split\n",
    "from sklearn.preprocessing import LabelEncoder, StandardScaler\n",
    "from sklearn.metrics import accuracy_score\n",
    "import numpy as np"
   ]
  },
  {
   "cell_type": "code",
   "execution_count": 15,
   "metadata": {},
   "outputs": [],
   "source": [
    "# Load the dataset\n",
    "iris = load_iris()\n",
    "X = iris.data\n",
    "y = iris.target"
   ]
  },
  {
   "cell_type": "code",
   "execution_count": 16,
   "metadata": {},
   "outputs": [],
   "source": [
    "# Encode the labels\n",
    "label_encoder = LabelEncoder()\n",
    "y_encoded = label_encoder.fit_transform(y)"
   ]
  },
  {
   "cell_type": "code",
   "execution_count": 17,
   "metadata": {},
   "outputs": [],
   "source": [
    "# Split the data into training and testing sets\n",
    "X_train, X_test, y_train, y_test = train_test_split(X, y_encoded, test_size=0.1, random_state=42)"
   ]
  },
  {
   "cell_type": "code",
   "execution_count": 18,
   "metadata": {},
   "outputs": [],
   "source": [
    "\n",
    "# Standardize the features\n",
    "scaler = StandardScaler()\n",
    "X_train = scaler.fit_transform(X_train)\n",
    "X_test = scaler.transform(X_test)"
   ]
  },
  {
   "cell_type": "markdown",
   "metadata": {},
   "source": [
    "Building the ANN model"
   ]
  },
  {
   "cell_type": "code",
   "execution_count": 19,
   "metadata": {},
   "outputs": [],
   "source": [
    "# Initialize the model\n",
    "model = Sequential()"
   ]
  },
  {
   "cell_type": "code",
   "execution_count": 20,
   "metadata": {},
   "outputs": [],
   "source": [
    "# Add input layer and first hidden layer\n",
    "model.add(Dense(8, input_shape=(X_train.shape[1],), activation='relu'))\n",
    "\n",
    "# Add second hidden layer\n",
    "model.add(Dense(8, activation='relu'))\n",
    "\n",
    "# Add output layer\n",
    "model.add(Dense(3, activation='softmax'))  # 3 because there are 3 classes in the Iris dataset"
   ]
  },
  {
   "cell_type": "code",
   "execution_count": 21,
   "metadata": {},
   "outputs": [],
   "source": [
    "# Compile the model\n",
    "model.compile(optimizer='adam', loss='sparse_categorical_crossentropy', metrics=['accuracy'])"
   ]
  },
  {
   "cell_type": "markdown",
   "metadata": {},
   "source": [
    "model training"
   ]
  },
  {
   "cell_type": "code",
   "execution_count": 22,
   "metadata": {},
   "outputs": [
    {
     "name": "stdout",
     "output_type": "stream",
     "text": [
      "Epoch 1/100\n",
      "14/14 [==============================] - 2s 33ms/step - loss: 1.0992 - accuracy: 0.3259 - val_loss: 0.9783 - val_accuracy: 0.4000\n",
      "Epoch 2/100\n",
      "14/14 [==============================] - 0s 7ms/step - loss: 1.0458 - accuracy: 0.3333 - val_loss: 0.9357 - val_accuracy: 0.4000\n",
      "Epoch 3/100\n",
      "14/14 [==============================] - 0s 7ms/step - loss: 1.0003 - accuracy: 0.3333 - val_loss: 0.8967 - val_accuracy: 0.4667\n",
      "Epoch 4/100\n",
      "14/14 [==============================] - 0s 7ms/step - loss: 0.9636 - accuracy: 0.3556 - val_loss: 0.8607 - val_accuracy: 0.6000\n",
      "Epoch 5/100\n",
      "14/14 [==============================] - 0s 7ms/step - loss: 0.9311 - accuracy: 0.4370 - val_loss: 0.8303 - val_accuracy: 0.6667\n",
      "Epoch 6/100\n",
      "14/14 [==============================] - 0s 7ms/step - loss: 0.9036 - accuracy: 0.4963 - val_loss: 0.8028 - val_accuracy: 0.5333\n",
      "Epoch 7/100\n",
      "14/14 [==============================] - 0s 7ms/step - loss: 0.8785 - accuracy: 0.5407 - val_loss: 0.7778 - val_accuracy: 0.5333\n",
      "Epoch 8/100\n",
      "14/14 [==============================] - 0s 7ms/step - loss: 0.8544 - accuracy: 0.5852 - val_loss: 0.7555 - val_accuracy: 0.6667\n",
      "Epoch 9/100\n",
      "14/14 [==============================] - 0s 7ms/step - loss: 0.8325 - accuracy: 0.6222 - val_loss: 0.7354 - val_accuracy: 0.7333\n",
      "Epoch 10/100\n",
      "14/14 [==============================] - 0s 8ms/step - loss: 0.8127 - accuracy: 0.6222 - val_loss: 0.7172 - val_accuracy: 0.7333\n",
      "Epoch 11/100\n",
      "14/14 [==============================] - 0s 7ms/step - loss: 0.7941 - accuracy: 0.6296 - val_loss: 0.7024 - val_accuracy: 0.7333\n",
      "Epoch 12/100\n",
      "14/14 [==============================] - 0s 9ms/step - loss: 0.7783 - accuracy: 0.6593 - val_loss: 0.6890 - val_accuracy: 0.7333\n",
      "Epoch 13/100\n",
      "14/14 [==============================] - 0s 8ms/step - loss: 0.7632 - accuracy: 0.6815 - val_loss: 0.6781 - val_accuracy: 0.8000\n",
      "Epoch 14/100\n",
      "14/14 [==============================] - 0s 7ms/step - loss: 0.7500 - accuracy: 0.6963 - val_loss: 0.6673 - val_accuracy: 0.8000\n",
      "Epoch 15/100\n",
      "14/14 [==============================] - 0s 8ms/step - loss: 0.7381 - accuracy: 0.7111 - val_loss: 0.6588 - val_accuracy: 0.8000\n",
      "Epoch 16/100\n",
      "14/14 [==============================] - 0s 8ms/step - loss: 0.7275 - accuracy: 0.7481 - val_loss: 0.6496 - val_accuracy: 0.8000\n",
      "Epoch 17/100\n",
      "14/14 [==============================] - 0s 7ms/step - loss: 0.7178 - accuracy: 0.7333 - val_loss: 0.6420 - val_accuracy: 0.7333\n",
      "Epoch 18/100\n",
      "14/14 [==============================] - 0s 8ms/step - loss: 0.7087 - accuracy: 0.7333 - val_loss: 0.6347 - val_accuracy: 0.7333\n",
      "Epoch 19/100\n",
      "14/14 [==============================] - 0s 8ms/step - loss: 0.7005 - accuracy: 0.7333 - val_loss: 0.6279 - val_accuracy: 0.7333\n",
      "Epoch 20/100\n",
      "14/14 [==============================] - 0s 7ms/step - loss: 0.6928 - accuracy: 0.7407 - val_loss: 0.6221 - val_accuracy: 0.7333\n",
      "Epoch 21/100\n",
      "14/14 [==============================] - 0s 9ms/step - loss: 0.6855 - accuracy: 0.7333 - val_loss: 0.6164 - val_accuracy: 0.7333\n",
      "Epoch 22/100\n",
      "14/14 [==============================] - 0s 7ms/step - loss: 0.6788 - accuracy: 0.7333 - val_loss: 0.6110 - val_accuracy: 0.7333\n",
      "Epoch 23/100\n",
      "14/14 [==============================] - 0s 7ms/step - loss: 0.6722 - accuracy: 0.7333 - val_loss: 0.6052 - val_accuracy: 0.7333\n",
      "Epoch 24/100\n",
      "14/14 [==============================] - 0s 8ms/step - loss: 0.6655 - accuracy: 0.7407 - val_loss: 0.5998 - val_accuracy: 0.7333\n",
      "Epoch 25/100\n",
      "14/14 [==============================] - 0s 7ms/step - loss: 0.6581 - accuracy: 0.7407 - val_loss: 0.5944 - val_accuracy: 0.7333\n",
      "Epoch 26/100\n",
      "14/14 [==============================] - 0s 7ms/step - loss: 0.6501 - accuracy: 0.7407 - val_loss: 0.5882 - val_accuracy: 0.6667\n",
      "Epoch 27/100\n",
      "14/14 [==============================] - 0s 7ms/step - loss: 0.6412 - accuracy: 0.7407 - val_loss: 0.5804 - val_accuracy: 0.6667\n",
      "Epoch 28/100\n",
      "14/14 [==============================] - 0s 7ms/step - loss: 0.6293 - accuracy: 0.7556 - val_loss: 0.5725 - val_accuracy: 0.6000\n",
      "Epoch 29/100\n",
      "14/14 [==============================] - 0s 7ms/step - loss: 0.6135 - accuracy: 0.7630 - val_loss: 0.5635 - val_accuracy: 0.6000\n",
      "Epoch 30/100\n",
      "14/14 [==============================] - 0s 8ms/step - loss: 0.5956 - accuracy: 0.7556 - val_loss: 0.5502 - val_accuracy: 0.6000\n",
      "Epoch 31/100\n",
      "14/14 [==============================] - 0s 7ms/step - loss: 0.5759 - accuracy: 0.7556 - val_loss: 0.5373 - val_accuracy: 0.6000\n",
      "Epoch 32/100\n",
      "14/14 [==============================] - 0s 8ms/step - loss: 0.5548 - accuracy: 0.7556 - val_loss: 0.5247 - val_accuracy: 0.6000\n",
      "Epoch 33/100\n",
      "14/14 [==============================] - 0s 7ms/step - loss: 0.5360 - accuracy: 0.7556 - val_loss: 0.5139 - val_accuracy: 0.6000\n",
      "Epoch 34/100\n",
      "14/14 [==============================] - 0s 7ms/step - loss: 0.5186 - accuracy: 0.7556 - val_loss: 0.5024 - val_accuracy: 0.6000\n",
      "Epoch 35/100\n",
      "14/14 [==============================] - 0s 7ms/step - loss: 0.5022 - accuracy: 0.7704 - val_loss: 0.4934 - val_accuracy: 0.6667\n",
      "Epoch 36/100\n",
      "14/14 [==============================] - 0s 8ms/step - loss: 0.4886 - accuracy: 0.7704 - val_loss: 0.4854 - val_accuracy: 0.6667\n",
      "Epoch 37/100\n",
      "14/14 [==============================] - 0s 7ms/step - loss: 0.4748 - accuracy: 0.7852 - val_loss: 0.4751 - val_accuracy: 0.7333\n",
      "Epoch 38/100\n",
      "14/14 [==============================] - 0s 7ms/step - loss: 0.4626 - accuracy: 0.7852 - val_loss: 0.4679 - val_accuracy: 0.7333\n",
      "Epoch 39/100\n",
      "14/14 [==============================] - 0s 7ms/step - loss: 0.4501 - accuracy: 0.7926 - val_loss: 0.4566 - val_accuracy: 0.7333\n",
      "Epoch 40/100\n",
      "14/14 [==============================] - 0s 7ms/step - loss: 0.4385 - accuracy: 0.7926 - val_loss: 0.4467 - val_accuracy: 0.7333\n",
      "Epoch 41/100\n",
      "14/14 [==============================] - 0s 7ms/step - loss: 0.4267 - accuracy: 0.7926 - val_loss: 0.4371 - val_accuracy: 0.7333\n",
      "Epoch 42/100\n",
      "14/14 [==============================] - 0s 7ms/step - loss: 0.4148 - accuracy: 0.8148 - val_loss: 0.4260 - val_accuracy: 0.7333\n",
      "Epoch 43/100\n",
      "14/14 [==============================] - 0s 7ms/step - loss: 0.4032 - accuracy: 0.8222 - val_loss: 0.4137 - val_accuracy: 0.8000\n",
      "Epoch 44/100\n",
      "14/14 [==============================] - 0s 7ms/step - loss: 0.3911 - accuracy: 0.8296 - val_loss: 0.4011 - val_accuracy: 0.8000\n",
      "Epoch 45/100\n",
      "14/14 [==============================] - 0s 7ms/step - loss: 0.3789 - accuracy: 0.8296 - val_loss: 0.3888 - val_accuracy: 0.8000\n",
      "Epoch 46/100\n",
      "14/14 [==============================] - 0s 7ms/step - loss: 0.3674 - accuracy: 0.8296 - val_loss: 0.3777 - val_accuracy: 0.8000\n",
      "Epoch 47/100\n",
      "14/14 [==============================] - 0s 7ms/step - loss: 0.3572 - accuracy: 0.8296 - val_loss: 0.3648 - val_accuracy: 0.8667\n",
      "Epoch 48/100\n",
      "14/14 [==============================] - 0s 7ms/step - loss: 0.3453 - accuracy: 0.8296 - val_loss: 0.3551 - val_accuracy: 0.8667\n",
      "Epoch 49/100\n",
      "14/14 [==============================] - 0s 7ms/step - loss: 0.3341 - accuracy: 0.8296 - val_loss: 0.3381 - val_accuracy: 0.8667\n",
      "Epoch 50/100\n",
      "14/14 [==============================] - 0s 7ms/step - loss: 0.3238 - accuracy: 0.8370 - val_loss: 0.3282 - val_accuracy: 0.8667\n",
      "Epoch 51/100\n",
      "14/14 [==============================] - 0s 7ms/step - loss: 0.3142 - accuracy: 0.8519 - val_loss: 0.3224 - val_accuracy: 0.8667\n",
      "Epoch 52/100\n",
      "14/14 [==============================] - 0s 7ms/step - loss: 0.3038 - accuracy: 0.8667 - val_loss: 0.3079 - val_accuracy: 0.8667\n",
      "Epoch 53/100\n",
      "14/14 [==============================] - 0s 7ms/step - loss: 0.2945 - accuracy: 0.8889 - val_loss: 0.2913 - val_accuracy: 0.8667\n",
      "Epoch 54/100\n",
      "14/14 [==============================] - 0s 7ms/step - loss: 0.2850 - accuracy: 0.8889 - val_loss: 0.2802 - val_accuracy: 0.8667\n",
      "Epoch 55/100\n",
      "14/14 [==============================] - 0s 7ms/step - loss: 0.2757 - accuracy: 0.9111 - val_loss: 0.2650 - val_accuracy: 0.8667\n",
      "Epoch 56/100\n",
      "14/14 [==============================] - 0s 7ms/step - loss: 0.2671 - accuracy: 0.9111 - val_loss: 0.2565 - val_accuracy: 0.8667\n",
      "Epoch 57/100\n",
      "14/14 [==============================] - 0s 7ms/step - loss: 0.2578 - accuracy: 0.9185 - val_loss: 0.2505 - val_accuracy: 0.8667\n",
      "Epoch 58/100\n",
      "14/14 [==============================] - 0s 7ms/step - loss: 0.2490 - accuracy: 0.9259 - val_loss: 0.2363 - val_accuracy: 0.9333\n",
      "Epoch 59/100\n",
      "14/14 [==============================] - 0s 7ms/step - loss: 0.2399 - accuracy: 0.9333 - val_loss: 0.2288 - val_accuracy: 0.9333\n",
      "Epoch 60/100\n",
      "14/14 [==============================] - 0s 7ms/step - loss: 0.2321 - accuracy: 0.9407 - val_loss: 0.2176 - val_accuracy: 0.9333\n",
      "Epoch 61/100\n",
      "14/14 [==============================] - 0s 7ms/step - loss: 0.2232 - accuracy: 0.9407 - val_loss: 0.2171 - val_accuracy: 0.9333\n",
      "Epoch 62/100\n",
      "14/14 [==============================] - 0s 7ms/step - loss: 0.2151 - accuracy: 0.9481 - val_loss: 0.2135 - val_accuracy: 0.9333\n",
      "Epoch 63/100\n",
      "14/14 [==============================] - 0s 7ms/step - loss: 0.2083 - accuracy: 0.9556 - val_loss: 0.2048 - val_accuracy: 0.9333\n",
      "Epoch 64/100\n",
      "14/14 [==============================] - 0s 7ms/step - loss: 0.2025 - accuracy: 0.9556 - val_loss: 0.2029 - val_accuracy: 0.9333\n",
      "Epoch 65/100\n",
      "14/14 [==============================] - 0s 7ms/step - loss: 0.1957 - accuracy: 0.9556 - val_loss: 0.1951 - val_accuracy: 0.9333\n",
      "Epoch 66/100\n",
      "14/14 [==============================] - 0s 7ms/step - loss: 0.1885 - accuracy: 0.9556 - val_loss: 0.1947 - val_accuracy: 0.9333\n",
      "Epoch 67/100\n",
      "14/14 [==============================] - 0s 7ms/step - loss: 0.1838 - accuracy: 0.9556 - val_loss: 0.1889 - val_accuracy: 0.9333\n",
      "Epoch 68/100\n",
      "14/14 [==============================] - 0s 7ms/step - loss: 0.1781 - accuracy: 0.9556 - val_loss: 0.1779 - val_accuracy: 1.0000\n",
      "Epoch 69/100\n",
      "14/14 [==============================] - 0s 7ms/step - loss: 0.1720 - accuracy: 0.9556 - val_loss: 0.1682 - val_accuracy: 1.0000\n",
      "Epoch 70/100\n",
      "14/14 [==============================] - 0s 7ms/step - loss: 0.1675 - accuracy: 0.9630 - val_loss: 0.1629 - val_accuracy: 1.0000\n",
      "Epoch 71/100\n",
      "14/14 [==============================] - 0s 7ms/step - loss: 0.1622 - accuracy: 0.9630 - val_loss: 0.1629 - val_accuracy: 1.0000\n",
      "Epoch 72/100\n",
      "14/14 [==============================] - 0s 7ms/step - loss: 0.1579 - accuracy: 0.9556 - val_loss: 0.1589 - val_accuracy: 1.0000\n",
      "Epoch 73/100\n",
      "14/14 [==============================] - 0s 7ms/step - loss: 0.1542 - accuracy: 0.9630 - val_loss: 0.1515 - val_accuracy: 1.0000\n",
      "Epoch 74/100\n",
      "14/14 [==============================] - 0s 7ms/step - loss: 0.1490 - accuracy: 0.9630 - val_loss: 0.1477 - val_accuracy: 1.0000\n",
      "Epoch 75/100\n",
      "14/14 [==============================] - 0s 7ms/step - loss: 0.1447 - accuracy: 0.9630 - val_loss: 0.1426 - val_accuracy: 1.0000\n",
      "Epoch 76/100\n",
      "14/14 [==============================] - 0s 8ms/step - loss: 0.1423 - accuracy: 0.9556 - val_loss: 0.1429 - val_accuracy: 1.0000\n",
      "Epoch 77/100\n",
      "14/14 [==============================] - 0s 7ms/step - loss: 0.1353 - accuracy: 0.9630 - val_loss: 0.1342 - val_accuracy: 1.0000\n",
      "Epoch 78/100\n",
      "14/14 [==============================] - 0s 7ms/step - loss: 0.1312 - accuracy: 0.9630 - val_loss: 0.1249 - val_accuracy: 1.0000\n",
      "Epoch 79/100\n",
      "14/14 [==============================] - 0s 7ms/step - loss: 0.1269 - accuracy: 0.9630 - val_loss: 0.1209 - val_accuracy: 1.0000\n",
      "Epoch 80/100\n",
      "14/14 [==============================] - 0s 7ms/step - loss: 0.1238 - accuracy: 0.9630 - val_loss: 0.1187 - val_accuracy: 1.0000\n",
      "Epoch 81/100\n",
      "14/14 [==============================] - 0s 7ms/step - loss: 0.1191 - accuracy: 0.9556 - val_loss: 0.1147 - val_accuracy: 1.0000\n",
      "Epoch 82/100\n",
      "14/14 [==============================] - 0s 7ms/step - loss: 0.1155 - accuracy: 0.9630 - val_loss: 0.1094 - val_accuracy: 1.0000\n",
      "Epoch 83/100\n",
      "14/14 [==============================] - 0s 7ms/step - loss: 0.1123 - accuracy: 0.9556 - val_loss: 0.1097 - val_accuracy: 1.0000\n",
      "Epoch 84/100\n",
      "14/14 [==============================] - 0s 7ms/step - loss: 0.1092 - accuracy: 0.9630 - val_loss: 0.1069 - val_accuracy: 1.0000\n",
      "Epoch 85/100\n",
      "14/14 [==============================] - 0s 8ms/step - loss: 0.1057 - accuracy: 0.9556 - val_loss: 0.1050 - val_accuracy: 1.0000\n",
      "Epoch 86/100\n",
      "14/14 [==============================] - 0s 7ms/step - loss: 0.1036 - accuracy: 0.9556 - val_loss: 0.1010 - val_accuracy: 1.0000\n",
      "Epoch 87/100\n",
      "14/14 [==============================] - 0s 7ms/step - loss: 0.1006 - accuracy: 0.9556 - val_loss: 0.1009 - val_accuracy: 1.0000\n",
      "Epoch 88/100\n",
      "14/14 [==============================] - 0s 7ms/step - loss: 0.0990 - accuracy: 0.9556 - val_loss: 0.0935 - val_accuracy: 1.0000\n",
      "Epoch 89/100\n",
      "14/14 [==============================] - 0s 7ms/step - loss: 0.0968 - accuracy: 0.9630 - val_loss: 0.0927 - val_accuracy: 1.0000\n",
      "Epoch 90/100\n",
      "14/14 [==============================] - 0s 7ms/step - loss: 0.0942 - accuracy: 0.9630 - val_loss: 0.0963 - val_accuracy: 1.0000\n",
      "Epoch 91/100\n",
      "14/14 [==============================] - 0s 7ms/step - loss: 0.0918 - accuracy: 0.9630 - val_loss: 0.0905 - val_accuracy: 1.0000\n",
      "Epoch 92/100\n",
      "14/14 [==============================] - 0s 7ms/step - loss: 0.0903 - accuracy: 0.9704 - val_loss: 0.0895 - val_accuracy: 1.0000\n",
      "Epoch 93/100\n",
      "14/14 [==============================] - 0s 9ms/step - loss: 0.0887 - accuracy: 0.9704 - val_loss: 0.0852 - val_accuracy: 1.0000\n",
      "Epoch 94/100\n",
      "14/14 [==============================] - 0s 7ms/step - loss: 0.0871 - accuracy: 0.9704 - val_loss: 0.0839 - val_accuracy: 1.0000\n",
      "Epoch 95/100\n",
      "14/14 [==============================] - 0s 6ms/step - loss: 0.0863 - accuracy: 0.9704 - val_loss: 0.0872 - val_accuracy: 1.0000\n",
      "Epoch 96/100\n",
      "14/14 [==============================] - 0s 7ms/step - loss: 0.0850 - accuracy: 0.9704 - val_loss: 0.0781 - val_accuracy: 1.0000\n",
      "Epoch 97/100\n",
      "14/14 [==============================] - 0s 7ms/step - loss: 0.0828 - accuracy: 0.9704 - val_loss: 0.0797 - val_accuracy: 1.0000\n",
      "Epoch 98/100\n",
      "14/14 [==============================] - 0s 7ms/step - loss: 0.0815 - accuracy: 0.9704 - val_loss: 0.0816 - val_accuracy: 1.0000\n",
      "Epoch 99/100\n",
      "14/14 [==============================] - 0s 7ms/step - loss: 0.0811 - accuracy: 0.9704 - val_loss: 0.0763 - val_accuracy: 1.0000\n",
      "Epoch 100/100\n",
      "14/14 [==============================] - 0s 7ms/step - loss: 0.0793 - accuracy: 0.9704 - val_loss: 0.0841 - val_accuracy: 1.0000\n"
     ]
    }
   ],
   "source": [
    "# Train the model\n",
    "history = model.fit(X_train, y_train, epochs=100, validation_data=(X_test, y_test), batch_size=10)\n"
   ]
  },
  {
   "cell_type": "markdown",
   "metadata": {},
   "source": [
    "Evaluating the model"
   ]
  },
  {
   "cell_type": "code",
   "execution_count": 23,
   "metadata": {},
   "outputs": [
    {
     "name": "stdout",
     "output_type": "stream",
     "text": [
      "1/1 [==============================] - 0s 47ms/step - loss: 0.0841 - accuracy: 1.0000\n",
      "Test Accuracy: 1.00\n"
     ]
    }
   ],
   "source": [
    "# Evaluate the model on the test set\n",
    "loss, accuracy = model.evaluate(X_test, y_test)\n",
    "print(f'Test Accuracy: {accuracy:.2f}')"
   ]
  },
  {
   "cell_type": "markdown",
   "metadata": {},
   "source": [
    "Making prediction"
   ]
  },
  {
   "cell_type": "code",
   "execution_count": 24,
   "metadata": {},
   "outputs": [
    {
     "name": "stdout",
     "output_type": "stream",
     "text": [
      "1/1 [==============================] - 0s 170ms/step\n",
      "Accuracy: 1.00\n"
     ]
    }
   ],
   "source": [
    "# Make predictions\n",
    "y_pred = model.predict(X_test)\n",
    "y_pred_classes = np.argmax(y_pred, axis=1)\n",
    "\n",
    "# Calculate accuracy\n",
    "test_accuracy = accuracy_score(y_test, y_pred_classes)\n",
    "print(f'Accuracy: {test_accuracy:.2f}')"
   ]
  },
  {
   "cell_type": "markdown",
   "metadata": {},
   "source": [
    "Visualizing the training process"
   ]
  },
  {
   "cell_type": "code",
   "execution_count": 25,
   "metadata": {},
   "outputs": [
    {
     "data": {
      "image/png": "[encoded data removed]",
      "text/plain": [
       "<Figure size 640x480 with 1 Axes>"
      ]
     },
     "metadata": {},
     "output_type": "display_data"
    }
   ],
   "source": [
    "import matplotlib.pyplot as plt\n",
    "\n",
    "# Plot training & validation accuracy values\n",
    "plt.plot(history.history['accuracy'])\n",
    "plt.plot(history.history['val_accuracy'])\n",
    "plt.title('Model accuracy')\n",
    "plt.xlabel('Epoch')\n",
    "plt.ylabel('Accuracy')\n",
    "plt.legend(['Train', 'Test'], loc='upper left')\n",
    "plt.show()\n"
   ]
  },
  {
   "cell_type": "code",
   "execution_count": 26,
   "metadata": {},
   "outputs": [
    {
     "data": {
      "image/png": "[encoded data removed]",
      "text/plain": [
       "<Figure size 640x480 with 1 Axes>"
      ]
     },
     "metadata": {},
     "output_type": "display_data"
    }
   ],
   "source": [
    "# Plot training & validation loss values\n",
    "plt.plot(history.history['loss'])\n",
    "plt.plot(history.history['val_loss'])\n",
    "plt.title('Model loss')\n",
    "plt.xlabel('Epoch')\n",
    "plt.ylabel('Loss')\n",
    "plt.legend(['Train', 'Test'], loc='upper left')\n",
    "plt.show()"
   ]
  },
  {
   "cell_type": "code",
   "execution_count": null,
   "metadata": {},
   "outputs": [],
   "source": []
  }
 ],
 "metadata": {
  "kernelspec": {
   "display_name": "fuzzy_env",
   "language": "python",
   "name": "python3"
  },
  "language_info": {
   "codemirror_mode": {
    "name": "ipython",
    "version": 3
   },
   "file_extension": ".py",
   "mimetype": "text/x-python",
   "name": "python",
   "nbconvert_exporter": "python",
   "pygments_lexer": "ipython3",
   "version": "3.8.19"
  }
 },
 "nbformat": 4,
 "nbformat_minor": 2
}
